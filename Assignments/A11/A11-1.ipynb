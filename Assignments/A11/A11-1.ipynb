{
 "cells": [
  {
   "cell_type": "markdown",
   "metadata": {},
   "source": [
    "# Assignment 11-1: SQL on Everything"
   ]
  },
  {
   "cell_type": "markdown",
   "metadata": {},
   "source": [
    "## Objectives\n",
    "\n",
    "In this assignment, you will learn how to use Presto to process data from different data sources within a single query. This reduces the complexity of integrating multiple systems.  \n",
    "* How to query a table stored in Hive using Presto Hive connector.\n",
    "* How to join tables from different places using Presto connectors.\n"
   ]
  },
  {
   "attachments": {
    "image.png": {
     "image/png": "[encoded data removed]"
    }
   },
   "cell_type": "markdown",
   "metadata": {},
   "source": [
    "## Background\n",
    "\n",
    "Suppose you are a data scientist working for an airline company. The company has an Amazon EMR cluster with Presto and Hive deployed, and another node with PostgreSQL deployed. The Hive cluster stores a table named `flights`, which contains the flight delay data. The PostgreSQL node stores two tables named `airlines` and `airports`, which provide additional information about airlines and airports for the `flights` table. \n",
    "\n",
    "Please check the description of all the tables in the [table_description](./table_description) folder.\n",
    "\n",
    "![image.png](attachment:image.png)\n",
    "\n",
    "\n",
    "This assignment contains two parts:\n",
    "- In the first part, you will use Presto to query the `flights` table in Hive. \n",
    "- In the second part, you will use Presto to join the `flights` table from Hive with the `airlines` and `airports` tables from PostgreSQL.\n",
    "\n",
    "For each part, you are given some questions and need to write down an SQL to answer each question. \n",
    "\n",
    "**Hint:** The result of each query can be found at the [result](./result) folder."
   ]
  },
  {
   "cell_type": "markdown",
   "metadata": {},
   "source": [
    "## Warmup\n",
    "Please read the Data Sources section in the [documentation](https://prestodb.io/docs/current/overview/concepts.html#data-sources) to learn some basic concepts of Presto.\n",
    "\n",
    "After you read it, you should know:\n",
    "* The meaning of `connector`, `catalog`, `schema`, and `table`.\n",
    "* Every catalog is associated with a specific connector. For example, the `hive` catalog is associated with the Hive connector.\n",
    "* The fully-qualified table name is `<catalog>.<schema>.<table>`."
   ]
  },
  {
   "cell_type": "markdown",
   "metadata": {},
   "source": [
    "## Setup\n",
    "Now, let us set up the Presto connection and test whether everything works well.\n",
    "### Step 1. Install pyhive and ipython-sql\n",
    "[ipython-sql](https://github.com/catherinedevlin/ipython-sql) is a jupyter notebook extension. It allows you to use SQL queries nicely inside jupyter notebooks. To use it, we also need the presto driver from [pyhive](https://github.com/dropbox/PyHive). You can easily install them using pip or Anaconda.\n",
    "- Open a terminal and type `pip install pyhive ipython-sql` or `conda install -c conda-forge pyhive ipython-sql`.\n",
    "\n",
    "### Step 2. Download Connection Config\n",
    "\n",
    "Download the config file `presto.ini` from this [CourSys](https://coursys.sfu.ca/2021sp-cmpt-733-g1/pages/Presto_Config) (must log in to view) and put it in the `conf` folder.\n",
    "\n",
    "### Step 3. Connect to Presto\n",
    "Now we connect to Presto. We first load the `ipython-sql` module and the `get_connection_string` function from the `load_config.py` file. Run the cell below:"
   ]
  },
  {
   "cell_type": "code",
   "execution_count": null,
   "metadata": {},
   "outputs": [],
   "source": [
    "from load_config import get_connection_string\n",
    "%load_ext sql"
   ]
  },
  {
   "cell_type": "markdown",
   "metadata": {},
   "source": [
    "Next, we load the config file and get the connection string, and then configure `ipython-sql`. Note that we set autolimit to 200, which means that the result fetches at most 200 rows."
   ]
  },
  {
   "cell_type": "code",
   "execution_count": null,
   "metadata": {},
   "outputs": [],
   "source": [
    "cstr = get_connection_string(\"conf/presto.ini\")\n",
    "%sql $cstr\n",
    "%config SqlMagic.autocommit=False\n",
    "%config SqlMagic.displaycon = False\n",
    "%config SqlMagic.autolimit = 200"
   ]
  },
  {
   "cell_type": "markdown",
   "metadata": {},
   "source": [
    "### Step 3. Test Connection\n",
    "We're ready to issue a query. The cell below shows how to display catalogs in Presto. Run it and see whether everything works:"
   ]
  },
  {
   "cell_type": "code",
   "execution_count": null,
   "metadata": {},
   "outputs": [],
   "source": [
    "%sql SHOW CATALOGS"
   ]
  },
  {
   "cell_type": "markdown",
   "metadata": {},
   "source": [
    "You should see `hive` and `postgresql` in the catalogs. They represent the Hive and PostgreSQL connectors, respectively. Now, we list the schemas in Hive by issing `SHOW SCHEMAS FROM <CATALOG>`:"
   ]
  },
  {
   "cell_type": "code",
   "execution_count": null,
   "metadata": {},
   "outputs": [],
   "source": [
    "%sql SHOW SCHEMAS FROM hive"
   ]
  },
  {
   "cell_type": "markdown",
   "metadata": {},
   "source": [
    "You should see the `cmpt733` schema. We list its table:"
   ]
  },
  {
   "cell_type": "code",
   "execution_count": null,
   "metadata": {},
   "outputs": [],
   "source": [
    "%sql SHOW TABLES FROM hive.cmpt733"
   ]
  },
  {
   "cell_type": "markdown",
   "metadata": {},
   "source": [
    "You should see the `flights` table. As we said before, table is identified by `<catalog>.<schema>.<table>`. You can access the `flights` table directly by `hive.cmpt733.flights`. Finally let us see what contains in `flights`. We show 10 rows of the table and save the result as a pandas dataframe:"
   ]
  },
  {
   "cell_type": "code",
   "execution_count": null,
   "metadata": {},
   "outputs": [],
   "source": [
    "result = %sql SELECT * FROM hive.cmpt733.flights LIMIT 10\n",
    "df = result.DataFrame()\n",
    "df"
   ]
  },
  {
   "cell_type": "markdown",
   "metadata": {},
   "source": [
    "If the SQL is long, you may want to use `%%sql` to run a SQL with multiple lines:"
   ]
  },
  {
   "cell_type": "code",
   "execution_count": null,
   "metadata": {},
   "outputs": [],
   "source": [
    "%%sql \n",
    "result << \n",
    "SELECT * \n",
    "FROM hive.cmpt733.flights \n",
    "LIMIT 10"
   ]
  },
  {
   "cell_type": "code",
   "execution_count": null,
   "metadata": {},
   "outputs": [],
   "source": [
    "df = result.DataFrame()\n",
    "df"
   ]
  },
  {
   "cell_type": "markdown",
   "metadata": {},
   "source": [
    "## Part 1. Query table in Hive through Presto\n",
    "\n",
    "Now let us explore the `flights` table and answer some questions. The answer to each question should be **a single SQL query**.\n",
    "\n",
    "\n",
    "\n",
    "### Q1.1 Which month has the lowest average departure delay? Output the month and the average delay."
   ]
  },
  {
   "cell_type": "code",
   "execution_count": null,
   "metadata": {},
   "outputs": [],
   "source": [
    "%%sql\n",
    "#REPLACE WITH YOUR CODE#"
   ]
  },
  {
   "cell_type": "markdown",
   "metadata": {},
   "source": [
    "### Q1.2  What is the most frequent cancellation reason for airlines that have been canceled more than 5000 times? Output the cancellation reason and its frequency. Note that the empty string in the *cancellation_reason* column does not count."
   ]
  },
  {
   "cell_type": "code",
   "execution_count": null,
   "metadata": {},
   "outputs": [],
   "source": [
    "%%sql\n",
    "#REPLACE WITH YOUR CODE#"
   ]
  },
  {
   "cell_type": "markdown",
   "metadata": {},
   "source": [
    "## Part 2: Query tables from different sources\n",
    "In `flights` table, the *airline_code*, *origin_airport_code* and *destination_airport_code* columns are both IATA code. We want to know more information about them such as the name of airline and airport, and the location of airport. To achieve this goal, we will join `flights` with another two tables, `airlines` and `airports`, which are stored in PostgreSQL.\n",
    "\n",
    "PostgreSQL connector uses `postgresql` catalog. The `airlines` and `airports` table are both in the `postgresql` catalog and `cmpt733` schema.\n",
    "\n",
    "To test, run the following two cells to see what the `airlines` and `airports` tables contain:"
   ]
  },
  {
   "cell_type": "code",
   "execution_count": null,
   "metadata": {},
   "outputs": [],
   "source": [
    "%sql SELECT * FROM postgresql.cmpt733.airlines"
   ]
  },
  {
   "cell_type": "code",
   "execution_count": null,
   "metadata": {
    "scrolled": true
   },
   "outputs": [],
   "source": [
    "%sql SELECT * FROM postgresql.cmpt733.airports"
   ]
  },
  {
   "cell_type": "markdown",
   "metadata": {},
   "source": [
    "In Presto, joining tables from different sources is pretty easy. It provides a unified view to manage different data sources by using connectors. You can process them like they are in the same database. For example, in the following, we join the `airline_code` column in `flights` with `iata_code` in the `airlines` table:"
   ]
  },
  {
   "cell_type": "code",
   "execution_count": null,
   "metadata": {},
   "outputs": [],
   "source": [
    "%%sql \n",
    "#REPLACE WITH YOUR CODE#"
   ]
  },
  {
   "cell_type": "markdown",
   "metadata": {},
   "source": [
    "Next, let us use the `flights` table as well as the `airlines` and `airports` tables to answer the following questions. The answer to each question should be **a single SQL query**.\n",
    "\n",
    "\n",
    "### Q2.1  What is the average arrival delay for each airline on weekends (Satursday and Sunday)? Output the names of airlines with the average delays. "
   ]
  },
  {
   "cell_type": "code",
   "execution_count": null,
   "metadata": {},
   "outputs": [],
   "source": [
    "%%sql\n",
    "#REPLACE WITH YOUR CODE#"
   ]
  },
  {
   "cell_type": "markdown",
   "metadata": {},
   "source": [
    "### Q2.2 Compute the average cancellation rate of each day of week (Monday - Sunday) for the flights from Columbia to Chicago in February. Output the average cancellation rates for Monday - Sunday."
   ]
  },
  {
   "cell_type": "code",
   "execution_count": null,
   "metadata": {},
   "outputs": [],
   "source": [
    "%%sql\n",
    "#REPLACE WITH YOUR CODE#"
   ]
  },
  {
   "cell_type": "markdown",
   "metadata": {},
   "source": [
    "### Q2.3 How many unique flights (flight number) are from New York to Houston by United Air Lines Inc. on each day of week (Monday - Sunday)? Output the number of unique flights for Monday - Sunday."
   ]
  },
  {
   "cell_type": "code",
   "execution_count": null,
   "metadata": {
    "scrolled": true
   },
   "outputs": [],
   "source": [
    "%%sql \n",
    "#REPLACE WITH YOUR CODE#"
   ]
  },
  {
   "cell_type": "markdown",
   "metadata": {},
   "source": [
    "## Reading (Optional)\n",
    "\n",
    "* Sethi, Raghav, et al. \"[Presto: SQL on Everything](https://research.fb.com/wp-content/uploads/2019/03/Presto-SQL-on-Everything.pdf)\" 2019 IEEE 35th International Conference on Data Engineering (ICDE). IEEE, 2019.\n",
    "* [OpenLookEng](https://openlookeng.io/) is an open-source tool built on top of Presto, released by Huawei Technologies Co., Ltd. It improves Presto's performance with several optimizations, such as Heuristic Index, Adaptive Dynamic Filter, Cross Region Connector, .... You can try it out at https://tryme.openlookeng.io/.\n",
    "\n"
   ]
  },
  {
   "cell_type": "markdown",
   "metadata": {},
   "source": [
    "## Submission"
   ]
  },
  {
   "cell_type": "markdown",
   "metadata": {},
   "source": [
    "Complete the code in A11-1.ipynb, and submit it to the CourSys activity Assignment 11."
   ]
  }
 ],
 "metadata": {
  "kernelspec": {
   "display_name": "Python 3",
   "language": "python",
   "name": "python3"
  },
  "language_info": {
   "codemirror_mode": {
    "name": "ipython",
    "version": 3
   },
   "file_extension": ".py",
   "mimetype": "text/x-python",
   "name": "python",
   "nbconvert_exporter": "python",
   "pygments_lexer": "ipython3",
   "version": "3.7.4"
  }
 },
 "nbformat": 4,
 "nbformat_minor": 2
}
