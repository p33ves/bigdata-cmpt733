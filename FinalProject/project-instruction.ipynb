{
 "cells": [
  {
   "cell_type": "markdown",
   "metadata": {},
   "source": [
    "# Final Project: Big Data Science"
   ]
  },
  {
   "cell_type": "markdown",
   "metadata": {},
   "source": [
    "## Project Overview"
   ]
  },
  {
   "cell_type": "markdown",
   "metadata": {},
   "source": [
    "In the final project, we hope everyone can think of yourself as a real-world data scientist. Your goal is to come up with some interesting questions, find the right datasets, and implement a data-science pipeline to answer those questions. In order to achieve this, please follow the following steps:\n",
    "\n",
    "1. Form a data-science team of **2-4** persons (the same group as your blog post). \n",
    "2. Pick up a project idea and write a proposal\n",
    "3. Give a 5-min Milestone Presentation\n",
    "5. Present your project in the virtual presentation meeting\n",
    "6. Submit your code, video, and report \n"
   ]
  },
  {
   "cell_type": "markdown",
   "metadata": {},
   "source": [
    "## Todo List"
   ]
  },
  {
   "cell_type": "markdown",
   "metadata": {},
   "source": [
    "The following table summarizes the TODO list of the final project.  "
   ]
  },
  {
   "cell_type": "markdown",
   "metadata": {},
   "source": [
    "\n",
    "\n",
    "ID |   <center>What</center>  |    <center>When</center>  |  <center>Where</center>\n",
    "-- | ------------------------ | ------------------------- | ------------------\n",
    "1  |  Proposal            |  Tuesday 02/16 at 11:59 PM  |  Submit the filled [form](https://docs.google.com/document/d/1DV-4Zyd0WJVqdH6IpIz2De0FUq-OsCtSytcz6Zn7Gro/edit?usp=sharing) to CourSys\n",
    "2  |  Milestone |  Thursday 03/11 at 08:00 AM |  Submit your PPT and presentation video to CourSys\n",
    "3  |  Virtual Presentation |  Monday 04/12 at 10:00 AM <br/> Monday 04/12 at 01:30 PM | Submit your PPT to CourSys <br />Present your project using PPT  at this [Zoom meeting link](https://coursys.sfu.ca/2021sp-cmpt-733-g1/pages/ZoomLinks)\n",
    "4  |  Final Report            |  Sunday  04/18 at 11:59 PM | Submit your code, video, and report to CourSys\n",
    "                                                              \n",
    "\n"
   ]
  },
  {
   "cell_type": "markdown",
   "metadata": {},
   "source": [
    "## Project Ideas"
   ]
  },
  {
   "cell_type": "markdown",
   "metadata": {},
   "source": [
    "### Choose from what we provide\n",
    "We recived one project proposal this year from Providence Health Care. This is a super cool project. I highly recommend reading it. \n",
    "\n",
    "1. [Machine learning based surveillance system using transfer learning for rare diseases (2021)](./Machine-learning-based-surveillance-system-using-transfer-learning-for-rare-diseases.pdf)\n"
   ]
  },
  {
   "cell_type": "markdown",
   "metadata": {},
   "source": [
    "If you decide to choose from the above project, please put your names [here](https://docs.google.com/spreadsheets/d/1w34F36K3Szj9ljy0IF9x6VxOVPgv-y7VPSWKxQjkmoo/edit?usp=sharing) and read the following carefully. \n",
    "\n",
    "* Without our permission, this project can be chosen by at most 2 teams. \n",
    "* You will get a mentor if you work on these projects! See the contact person in the proposal. Please contact the person if you need any help.\n",
    "* If you think that the project is too big and cannot be completed within two months, please discuss with your mentor to reduce the workload, or collaborate with the other team to split the workload."
   ]
  },
  {
   "cell_type": "markdown",
   "metadata": {},
   "source": [
    "Below is a list of project ideas from previous years. I do not recommend selecting from the list since they have been done by former students.  \n",
    "1. [Automatic Hierarchical Time-Series Forecast at Different Aggregation Levels for Fashion Products (2020)](./Auto_Forecast_Hierarchical.pdf)\n",
    "2. [Elevator Anomaly Detection System (2020)](./Elevator-Anomaly-Detection-System.pdf)\n",
    "3. [Explain Data and Interpretable Machine Learning (2020)](./Explain-Data-and-Interpretable-Machine-Learning.pdf)\n",
    "4. [Explore the Impact of Weather on Short-time Demand Forecast for Fashion Retailers (2020)](./Weather_Enriched_Short_Term_Fashion_Forecast.pdf)\n",
    "5. [Incident Social Listening (2020)](./Incident-Social-Listening.pdf)\n",
    "6. [Machine Learning Applied to Web Scraping (2020)](./Machine-Learning-Applied-to-Web-Scraping.pdf)\n",
    "7. [Medical Language Understanding (2020)](./Medical-Language-Understanding.pdf)\n",
    "8. [Model Fairness & Transparency (2020)](./Model-Fairness-&-Transparency.pdf)\n",
    "9. [Object-Detection-in-X-Ray-Images (2020)](./Object-Detection-in-X-Ray-Images.pdf)\n",
    "\n",
    "10. [Analyzing Social media user interaction (2019)](./Analyzing-Social-media-user-interaction.pdf)\n",
    "11. [LTF - Big Data Financial Analysis (2019)](./LTF-Big-Data-Financial-Analysis.pdf)\n",
    "12. [Measuring Observable Influence and Impact of Scientific Research Beyond Academia (2019)](./Measuring-observable-influence-and-impact-of-scientific-research-beyond-academia.pdf)\n",
    "13. [A prototype Canadian Natural Hazards Database (2018)](./A-prototype-Canadian-Natural-Hazards-Database.pdf)\n",
    "14. [Automated Feature Detection of Aerial Imagery from South Pacific (2018)](./Automated-Feature-Detection-of-Aerial-Imagery-from-South-Pacific.pdf)\n",
    "15. [Fall Detection using wearable sensor data (2018)](./Fall-Detection-using-wearable-sensor-data.pdf)\n",
    "16. [Machine learning to detect misstated financial statements (2018)](./Machine-learning-to-detect-misstated-financial-statements.pdf)\n",
    "17. [Predicting Soccer games and tournaments (2018)](./Predicting-Soccer-games-and-tournaments.pdf)\n",
    "18. [Predictive Maintenance on IOT devices (2018)](./Predictive-Maintenance-on-IOT-devices.pdf)\n",
    "19. [Property value prediction with market data (2018)](./Property-value-prediction-with-market-data.pdf)\n",
    "20. [Topic modeling and visualization of news comments (2018)](./Topic-modeling-and-visualization-of-news-comments.pdf)"
   ]
  },
  {
   "cell_type": "markdown",
   "metadata": {},
   "source": [
    "### Come up with your own one"
   ]
  },
  {
   "cell_type": "markdown",
   "metadata": {},
   "source": [
    "To evaluate whether your project is good or not, please ask yourself the following three questions:\n",
    "\n",
    "1. Is it important? (i.e., what impacts can your project make?)\n",
    "2. Is it challenging? (i.e., does a naive solution work very well?)\n",
    "3. What can I learn by doing the project? (i.e., new tools, new techniques, new domain knowledge, new methodologies). \n",
    "\n",
    "A good project should be important, be challenging, and be able to push you to learn something that you don't know before. \n",
    "\n",
    "Note that you need to conduct a *deep analysis* of the data. By deep analysis, I mean you have to think deeply about your analysis results, and report some **insightful and reliable findings**. \n",
    "\n"
   ]
  },
  {
   "cell_type": "markdown",
   "metadata": {},
   "source": [
    "## Step-by-step Instruction"
   ]
  },
  {
   "cell_type": "markdown",
   "metadata": {},
   "source": [
    "### 1. Proposal (5 points)"
   ]
  },
  {
   "cell_type": "markdown",
   "metadata": {},
   "source": [
    "<!-- * Create your data-science team in [CourSys](https://coursys.sfu.ca/2019sp-cmpt-733-g1/groups/) -->\n",
    "* Download the Initial Plan [form template](https://docs.google.com/document/d/1DV-4Zyd0WJVqdH6IpIz2De0FUq-OsCtSytcz6Zn7Gro/edit?usp=sharing) \n",
    "* Submit the filled form to CourSys"
   ]
  },
  {
   "cell_type": "markdown",
   "metadata": {},
   "source": [
    "### 2. Milestone Presentation (10 points)"
   ]
  },
  {
   "cell_type": "markdown",
   "metadata": {},
   "source": [
    "Communication skills are super important for data scientists. Please use this opportunity to practice your communication skills.\n",
    "\n",
    "You can think of this presentation as a mid-term report for your project. Your presentation should consist of three parts:\n",
    "\n",
    "1. `Motivation (2)`\n",
    "    * Why is it an important project? (1)\n",
    "    * Why is it challenging? (1)\n",
    "    \n",
    "2. `Progress Report (2)` \n",
    "    * What have you done so far? (1) You need to provide evidence (e.g., screenshots of repo and commits, an initial demo) for your progress.\n",
    "    * Is it on schedule? (1) You need to show the entire project schedule and point to where you are. \n",
    "       \n",
    "3. `Future work (2)` \n",
    "    * What do you plan to do next? (1) You need to show the detailed schedule of the remaining part of the project.\n",
    "    * How to mitigate risks? (1) You also need to discuss whether there is any risk to complete the project on time. \n",
    "\n",
    "\n",
    "Imagine your manager (who knows little about the technical part of data science) is sitting in the audience, you need to explain your complex project to your manager in a simple way, and make her/him feel excited about it. \n",
    "\n",
    "* `Did you convey complex information in a simple way? (2)`\n",
    "* `Did you excite and motivate the audience? (2)`\n",
    "\n",
    "\n",
    "Search \"how to give a good talk\" on Google. You will find a lot of good advice. Use them to improve your presentation. \n",
    "\n",
    "**Submission**\n",
    "\n",
    "* Make a video to record your presentation (The format is similar to [Example 1](https://www.youtube.com/watch?v=slVJ6vCAlEI) and [Example 2](https://www.youtube.com/watch?v=WHZEmDe2IAE)). \n",
    "\n",
    "* The video length should be within 5 mins (but longer than 4 mins). \n",
    "\n",
    "* Submit your PPT and video (Youtube URL) to CourSys. \n",
    "\n"
   ]
  },
  {
   "cell_type": "markdown",
   "metadata": {},
   "source": [
    "### 3. Final Project Presentation (20 points)"
   ]
  },
  {
   "cell_type": "markdown",
   "metadata": {},
   "source": [
    "We are going to host a final project virtual presentation on Zoom.\n",
    "\n",
    "**Step 1. [Deadline: 10 AM April 8th].** For each group, please pick up one time slot at this [google spreadsheet](https://docs.google.com/spreadsheets/d/11ZeqOrMb2ZxB8RR1PhBxbfie_i14qOppdZNdHA4hnXY/edit?usp=sharing) and fill in your presentation title, group name, and student names. \n",
    "\n",
    "\n",
    "**Step 2. [Deadline: 10 AM April 12th].** For every student, please upload your group's PPT to CourSys. Here are a few things that you can put on your PPT:\n",
    "\n",
    "* Why do you do this project?\n",
    "\n",
    "* What questions do you try to answer?  \n",
    "\n",
    "* What's your methodology to get the answers? \n",
    "\n",
    "* What datasets/tools do you use? \n",
    "\n",
    "* What's your data-science workflow like?\n",
    "\n",
    "* Why is your solution good? Why does your result make sense?\n",
    "\n",
    "* What's your data product?\n",
    "\n",
    "* What have you learned through the project? \n",
    "\n",
    "* What do you plan to do if you have more time? \n",
    "\n",
    "\n",
    "**Step 3. [1:30 PM - 3:30 PM, April 12th].** For every student, please join the Zoom meeting from 1:30 PM - 3:30 PM unless you have another exam. This is a great opportunity to learn from classmates. Due to the time constraint, unfortunately, you are **not** allowed to ask questions during the meeting. \n",
    "\n",
    "\n",
    "\n",
    "**Step 4. [10 minutes-slot, April 12th].** For every group, once it's your turn, the presenter turns on the camera and shares the screen. The other group members are required to turn on the cameras as well. \n",
    "\n",
    "- [Presentation (5 mins)]. The presenter(s) will present the group project. The length of a presentation should be 5 mins! Pay attention to the time. If the presenter(s) ended up spending x mins, the group grade would be deducted by |x-5| points (rounding). **It's ok if your group wants to have multiple presenters**. \n",
    "\n",
    "- [Q&A (5 mins)]. Only instructors and TAs are allowed to ask questions. Note that we may **randomly** pick up one student in your group and ask anything related to the part of the work that this student did.\n",
    "\n",
    "\n",
    "**Marking Scheme**\n",
    "\n",
    " - Project Related (9 Points)\n",
    "\n",
    "   1. Data Science Workflow (3 Points). The data-science workflow makes sense and can be used to answer the proposed questions.\n",
    "\n",
    "   2. Technical Depth (3 Points). Students should have a deep understanding of the approaches they used. They should try hard to find/develop the best possible solution. \n",
    "\n",
    "   3. Evaluation (3 Points). Students should get some insightful and reliable findings. They should do some experiments to evaluate the quality of the model or efficiency/scalability of the system/algorithms. They should know why they can get good/bad results and how they can get better results. \n",
    "   \n",
    "   \n",
    "\n",
    " - Presentation Related (11 Points)\n",
    "\n",
    "   1. PPT (3 Points). PPT should look professional, clear, and attractive.\n",
    "\n",
    "   2. Presentation (4 Points). Students should give a clear and attractive presentation. \n",
    "\n",
    "   3. Q/A (4 Points). Students can understand the questions clearly and provide convincing answers.\n",
    "\n",
    "\n",
    "**Final Notes**\n",
    "\n",
    "1. Search \"how to give a good talk\" in Google. You will find a lot of good advice. Please follow them to improve your presentation. \n",
    "2. You have to do a couple of practice talks in front of your group members before the presentation day. \n",
    "3. EVERYONE should join the Zoom meeting from 1:30 PM - 3:30 PM unless you have another exam. \n",
    "4. Please submit your PPT to CourSys before 10 AM on April 12. \n",
    "5. The top teams will be selected by instructors and TAs based on the above marking scheme. They will present their work to PMP Big Data Advisors. The best team(s) will be selected by the advisors and get best student project award(s). "
   ]
  },
  {
   "cell_type": "markdown",
   "metadata": {},
   "source": [
    "### 4. Video & Code & Report (30 points)"
   ]
  },
  {
   "cell_type": "markdown",
   "metadata": {},
   "source": [
    "**Code (10 points)**\n",
    "\n",
    "Like CMPT 732, you must use a Git repository for your project. The department's [GitLab](https://coursys.sfu.ca/2019fa-cmpt-732-g1/pages/GitLab) server is a good way to get one (instructions at that link). Group members must commit their own contributions to the repo. You are encouraged to publicize and open-source your work on [GitHub](https://github.com/) or similar. \n",
    "\n",
    "In your repository, please include a file README.txt (or README.md if you prefer) indicating how we can actually test your project as well as other notes about things we should look for. If you created some kind of web frontend, please include a URL in the README.md as well."
   ]
  },
  {
   "cell_type": "markdown",
   "metadata": {},
   "source": [
    "**Report (10 points)**\n",
    "\n",
    "You need to submit a report giving an overview of your project. The report should have at least 2500 words with the following structure:\n",
    "\n",
    "* `Project Title:` Come up with an attractive project title (see this [page](https://blog.hubspot.com/marketing/a-simple-formula-for-writing-kick-ass-titles-ht#sm.0000072w4nzrqmfn2vwd6y30afmyo) for some tips);\n",
    "* `Motivation and Background:` Who cares about this project? Any related work?  \n",
    "* `Problem Statement:` What questions do you want to answer? Why are they challenging?    \n",
    "* `Data Science Pipeline:` What's your data-science pipeline like? Describe each component in detail.\n",
    "* `Methodology:` What tools or analysis methods did you use? Why did you choose them? How did you apply them to tackling each problem? \n",
    "* `Evaluation:` Why is your solution good? Why does your result make sense? \n",
    "* `Data Product:` What's your data product? Please demonstrate how it works.\n",
    "* `Lessons Learnt:` What did you learn from this project? \n",
    "* `Summary:` A high-level summary of your project. It should be self-contained and cover all the important aspects of your project.\n",
    "\n",
    "Please choose A or B:\n",
    "\n",
    "* [A]. Write your report on Medium and publish it on [SFU Big Data Science Publication](https://medium.com/sfu-big-data)\n",
    "* [B]. Write your report in PDF and submit it to CourSys"
   ]
  },
  {
   "cell_type": "markdown",
   "metadata": {},
   "source": [
    "**Video (10 points)**\n",
    "\n",
    "Please make an attractive video to introduce your project. Here are some requirements:\n",
    "\n",
    "1. The video length should be no more than 3 mins. \n",
    "2. Explain why this is an important project\n",
    "3. List the questions you want to answer as well as the datasets you collected\n",
    "4. Give a high-level idea on how you use data science skills to answer those questions \n",
    "5. Need to show the conclusion of your project\n",
    "6. Put your contact information at the end of the video\n",
    "\n",
    "You can get some inspirations from [KDD 2017 Promotional Videos](https://www.youtube.com/watch?v=wSMaDSQjCG4&list=PLliTSxmRFGVPkvUZb3Q-DzvOgs20LOinA), [KDD 2018 Promotional Videos](https://www.youtube.com/watch?v=7hOxFSxdS3k&list=PLQKvj098sSkomub2IQ78cq8AHU692mIK-), [2018 Project Showcase](https://sfu-db.github.io/bigdata-cmpt733/final-project-sp18.html), [2019 Project Showcase](https://sfu-db.github.io/bigdata-cmpt733/final-project-sp19.html), and [2020 Project Showcase](https://sfu-db.github.io/bigdata-cmpt733/final-project-sp20.html)."
   ]
  },
  {
   "cell_type": "markdown",
   "metadata": {},
   "source": [
    "**Submission**\n",
    "\n",
    "We will create a web page on the course website and put your projects there. On the page, we will put a project title, a project summary, and the three URLs that link to your codebase, video, and final report, . Please submit your project title, project summary, final report (Medium URL or PDF), code (Github/GitLab URL), and video (Youtube URL) to  CourSys.\n"
   ]
  }
 ],
 "metadata": {
  "kernelspec": {
   "display_name": "Python 3",
   "language": "python",
   "name": "python3"
  },
  "language_info": {
   "codemirror_mode": {
    "name": "ipython",
    "version": 3
   },
   "file_extension": ".py",
   "mimetype": "text/x-python",
   "name": "python",
   "nbconvert_exporter": "python",
   "pygments_lexer": "ipython3",
   "version": "3.8.8"
  }
 },
 "nbformat": 4,
 "nbformat_minor": 4
}
